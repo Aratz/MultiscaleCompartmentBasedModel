{
 "cells": [
  {
   "cell_type": "code",
   "execution_count": 1,
   "metadata": {},
   "outputs": [],
   "source": [
    "%matplotlib notebook\n",
    "\n",
    "import json\n",
    "import pyabc\n",
    "import parse\n",
    "import numpy as np\n",
    "import scipy.stats as scs\n",
    "import scipy.interpolate as sci\n",
    "import matplotlib.pyplot as plt\n",
    "import matplotlib.ticker as mpt\n",
    "\n",
    "from ast import literal_eval"
   ]
  },
  {
   "cell_type": "code",
   "execution_count": 2,
   "metadata": {},
   "outputs": [],
   "source": [
    "base_parameters = {\n",
    "    'k_a': 0.002,\n",
    "    'k_d': 0.1,\n",
    "    'mu': 3.0,\n",
    "    'kappa': 1.0,\n",
    "    'gamma': 0.04,\n",
    "    'diffusion': 0.6,\n",
    "    'time_step': 0.1,\n",
    "    'cell_radius': 6.0,\n",
    "    'nucleus_radius': 2.5,\n",
    "}"
   ]
  },
  {
   "cell_type": "code",
   "execution_count": 3,
   "metadata": {},
   "outputs": [],
   "source": [
    "with open('time.json', 'r') as f:\n",
    "    raw_data = {literal_eval(k): v for k, v in json.load(f).items()}"
   ]
  },
  {
   "cell_type": "code",
   "execution_count": 4,
   "metadata": {},
   "outputs": [],
   "source": [
    "# Refactor data\n",
    "data = {}\n",
    "for k, v in raw_data.items():\n",
    "    solver, params = k\n",
    "    data.setdefault(solver, {})[params] = v"
   ]
  },
  {
   "cell_type": "code",
   "execution_count": 22,
   "metadata": {},
   "outputs": [
    {
     "name": "stdout",
     "output_type": "stream",
     "text": [
      "WMM (s):          1.70      1.47      3.49 \n",
      "CBM (s):          2.21      1.79      1.14 \n",
      "smoldyn (s):   4635.48   3405.71    680.40 \n"
     ]
    }
   ],
   "source": [
    "for solver in ['WMM', 'CBM', 'smoldyn']:\n",
    "    time = data[solver]\n",
    "    min_x = min(time.keys(), key=lambda t: t[1])[1]\n",
    "    max_x = max(time.keys(), key=lambda t: t[1])[1]\n",
    "\n",
    "    min_D = min(time.keys(), key=lambda t: t[0])[0]\n",
    "    max_D = max(time.keys(), key=lambda t: t[0])[0]\n",
    "\n",
    "    raw_grid = np.array([[chi, D, z[1]]\n",
    "                         for ((D, chi, k_d), z) in time.items()\n",
    "                        if k_d == 0])\n",
    "\n",
    "    XY = raw_grid[:, :2]\n",
    "    Z = raw_grid[:, 2]\n",
    "\n",
    "\n",
    "    inference_files = sorted([\n",
    "        \"inference/inference_0.8000000000000007_0.8000000000000003_0.0_.db\",\n",
    "        \"inference/inference_-0.7999999999999998_0.8000000000000003_0.0_.db\",\n",
    "        \"inference/inference_-4.8_3.2_0.0_.db\",\n",
    "    ], key=lambda s: -parse.parse(\"inference/inference_{diffusion:f}_{chi:f}_{k_d:f}_.db\", s).named['diffusion'])\n",
    "\n",
    "    print(f\"{solver} (s): \".ljust(13), end='')\n",
    "    for inference_file in inference_files:\n",
    "        db_path = \"sqlite:///{}\".format(inference_file)\n",
    "        history = pyabc.History(db_path)\n",
    "\n",
    "        particles = np.array([[particle.parameter['chi'], particle.parameter['diffusion']]\n",
    "            for t in range(10)\n",
    "            for particle in history.get_population(t=t).get_list()])\n",
    "\n",
    "        xi, yi = np.mgrid[min_x:max_x:100j, min_D:max_D:100j]\n",
    "        grid_z2 = sci.griddata(XY, Z, (particles[:, 0], particles[:, 1]) , method='cubic')\n",
    "\n",
    "        print(f\"{sum(grid_z2)/60./60.:9.2f}\", end=' ')\n",
    "    print()"
   ]
  },
  {
   "cell_type": "code",
   "execution_count": 19,
   "metadata": {},
   "outputs": [
    {
     "name": "stdout",
     "output_type": "stream",
     "text": [
      "1.044660675955349 1.7411011265922482\n",
      "0.34460950649911043 1.7411011265922482\n",
      "0.02153809415619441 9.18958683997628\n"
     ]
    }
   ],
   "source": [
    "# get particle coordinates\n",
    "# check that time is realistic\n",
    "print(0.6*2**0.8, 2**0.8)\n",
    "print(0.6*2**-0.8, 2**0.8)\n",
    "print(0.6*2**-4.8, 2**3.2)"
   ]
  },
  {
   "cell_type": "code",
   "execution_count": null,
   "metadata": {},
   "outputs": [],
   "source": []
  }
 ],
 "metadata": {
  "kernelspec": {
   "display_name": "Python 3",
   "language": "python",
   "name": "python3"
  },
  "language_info": {
   "codemirror_mode": {
    "name": "ipython",
    "version": 3
   },
   "file_extension": ".py",
   "mimetype": "text/x-python",
   "name": "python",
   "nbconvert_exporter": "python",
   "pygments_lexer": "ipython3",
   "version": "3.7.4"
  }
 },
 "nbformat": 4,
 "nbformat_minor": 4
}
